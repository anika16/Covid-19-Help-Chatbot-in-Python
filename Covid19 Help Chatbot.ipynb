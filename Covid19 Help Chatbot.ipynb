{
 "cells": [
  {
   "cell_type": "code",
   "execution_count": 2,
   "metadata": {
    "colab": {
     "base_uri": "https://localhost:8080/"
    },
    "id": "Z_iGI2Ut9Luy",
    "outputId": "e6dd389c-3efe-416a-8f05-045f9d690c74"
   },
   "outputs": [
    {
     "name": "stdout",
     "output_type": "stream",
     "text": [
      "Requirement already satisfied: newspaper3k in c:\\users\\anika\\anaconda3\\lib\\site-packages (0.2.8)\n",
      "Requirement already satisfied: tinysegmenter==0.3 in c:\\users\\anika\\anaconda3\\lib\\site-packages (from newspaper3k) (0.3)\n",
      "Requirement already satisfied: feedfinder2>=0.0.4 in c:\\users\\anika\\anaconda3\\lib\\site-packages (from newspaper3k) (0.0.4)\n",
      "Requirement already satisfied: feedparser>=5.2.1 in c:\\users\\anika\\anaconda3\\lib\\site-packages (from newspaper3k) (6.0.8)\n",
      "Requirement already satisfied: lxml>=3.6.0 in c:\\users\\anika\\anaconda3\\lib\\site-packages (from newspaper3k) (4.5.0)\n",
      "Requirement already satisfied: beautifulsoup4>=4.4.1 in c:\\users\\anika\\anaconda3\\lib\\site-packages (from newspaper3k) (4.8.2)\n",
      "Requirement already satisfied: python-dateutil>=2.5.3 in c:\\users\\anika\\anaconda3\\lib\\site-packages (from newspaper3k) (2.8.1)\n",
      "Requirement already satisfied: jieba3k>=0.35.1 in c:\\users\\anika\\anaconda3\\lib\\site-packages (from newspaper3k) (0.35.1)\n",
      "Requirement already satisfied: nltk>=3.2.1 in c:\\users\\anika\\anaconda3\\lib\\site-packages (from newspaper3k) (3.4.5)\n",
      "Requirement already satisfied: requests>=2.10.0 in c:\\users\\anika\\anaconda3\\lib\\site-packages (from newspaper3k) (2.22.0)\n",
      "Requirement already satisfied: PyYAML>=3.11 in c:\\users\\anika\\anaconda3\\lib\\site-packages (from newspaper3k) (5.3)\n",
      "Requirement already satisfied: Pillow>=3.3.0 in c:\\users\\anika\\anaconda3\\lib\\site-packages (from newspaper3k) (7.0.0)\n",
      "Requirement already satisfied: cssselect>=0.9.2 in c:\\users\\anika\\anaconda3\\lib\\site-packages (from newspaper3k) (1.1.0)\n",
      "Requirement already satisfied: tldextract>=2.0.1 in c:\\users\\anika\\anaconda3\\lib\\site-packages (from newspaper3k) (3.1.0)\n",
      "Requirement already satisfied: six in c:\\users\\anika\\anaconda3\\lib\\site-packages (from feedfinder2>=0.0.4->newspaper3k) (1.14.0)\n",
      "Requirement already satisfied: sgmllib3k in c:\\users\\anika\\anaconda3\\lib\\site-packages (from feedparser>=5.2.1->newspaper3k) (1.0.0)\n",
      "Requirement already satisfied: soupsieve>=1.2 in c:\\users\\anika\\anaconda3\\lib\\site-packages (from beautifulsoup4>=4.4.1->newspaper3k) (1.9.5)\n",
      "Requirement already satisfied: chardet<3.1.0,>=3.0.2 in c:\\users\\anika\\anaconda3\\lib\\site-packages (from requests>=2.10.0->newspaper3k) (3.0.4)\n",
      "Requirement already satisfied: certifi>=2017.4.17 in c:\\users\\anika\\anaconda3\\lib\\site-packages (from requests>=2.10.0->newspaper3k) (2019.11.28)\n",
      "Requirement already satisfied: urllib3!=1.25.0,!=1.25.1,<1.26,>=1.21.1 in c:\\users\\anika\\anaconda3\\lib\\site-packages (from requests>=2.10.0->newspaper3k) (1.25.8)\n",
      "Requirement already satisfied: idna<2.9,>=2.5 in c:\\users\\anika\\anaconda3\\lib\\site-packages (from requests>=2.10.0->newspaper3k) (2.8)\n",
      "Requirement already satisfied: filelock>=3.0.8 in c:\\users\\anika\\anaconda3\\lib\\site-packages (from tldextract>=2.0.1->newspaper3k) (3.0.12)\n",
      "Requirement already satisfied: requests-file>=1.4 in c:\\users\\anika\\anaconda3\\lib\\site-packages (from tldextract>=2.0.1->newspaper3k) (1.5.1)\n"
     ]
    }
   ],
   "source": [
    "!pip install newspaper3k"
   ]
  },
  {
   "cell_type": "code",
   "execution_count": 3,
   "metadata": {
    "colab": {
     "base_uri": "https://localhost:8080/"
    },
    "id": "3xKXM3kQ9V-A",
    "outputId": "4801447e-6bb1-419a-8580-2a801c852128"
   },
   "outputs": [
    {
     "name": "stdout",
     "output_type": "stream",
     "text": [
      "['What is corona virus.'\n",
      " 'Corona viruses are a large family of viruses which may cause illness in animals or humans.'\n",
      " 'In humans, several coronaviruses are known.Coronavirus disease (COVID-19) is an infectious disease caused by a newly discovered coronavirus.'\n",
      " 'Most people infected with the COVID-19 virus will experience mild to moderate respiratory illness and recover without requiring special treatment.'\n",
      " 'Older people, and those with underlying medical problems like cardiovascular disease, diabetes, chronic respiratory disease, and cancer are more likely to develop serious illness.'\n",
      " 'The best way to prevent and slow down transmission is to be well informed about the COVID-19 virus, the disease it causes and how it spreads.'\n",
      " 'Protect yourself and others from infection by washing your hands or using an alcohol based rub frequently and not touching your face.'\n",
      " 'The COVID-19 virus spreads primarily through droplets of saliva or discharge from the nose when an infected person coughs or sneezes, so it’s important that you also practice respiratory etiquette (for example, by coughing into a flexed elbow).'\n",
      " 'Stay informed:As the coronavirus pandemic rapidly sweeps across the world, it is inducing a considerable degree of fear, worry and concern in the population at large and among certain groups in particular, such as older adults, care providers and people with underlying health conditions.'\n",
      " 'In public mental health terms, the main psychological impact to date is elevated rates of stress or anxiety.'\n",
      " 'But as new measures and impacts are introduced – especially quarantine and its effects on many people’s usual activities, routines or livelihoods – levels of loneliness, depression, harmful alcohol and drug use, and self-harm or suicidal behaviour are also expected to rise.'\n",
      " 'In populations already heavily affected, such as Lombardy in Italy, issues of service access and continuity for people with developing or existing mental health conditions are also now a major concern, along with the mental health and well-being of frontline workers.'\n",
      " 'As part of its public health response, WHO has worked with partners to develop a set of new materials on the mental health and psychosocial support aspects of COVID-19.Coronaviruses (CoV) are a large family of viruses that cause illness ranging from the common cold to more severe diseases such as Middle East Respiratory Syndrome (MERS-CoV) and Severe Acute Respiratory Syndrome (SARS-CoV).'\n",
      " 'A novel coronavirus (nCoV) is a new strain that has not been previously identified in humans.'\n",
      " 'Coronaviruses are zoonotic, meaning they are transmitted between animals and people.'\n",
      " 'Detailed investigations found that SARS-CoV was transmitted from civet cats to humans and MERS-CoV from dromedary camels to humans.'\n",
      " 'Several known coronaviruses are circulating in animals that have not yet infected humans.'\n",
      " 'Common signs of infection include respiratory symptoms, fever, cough, shortness of breath and breathing difficulties.'\n",
      " 'In more severe cases, infection can cause pneumonia, severe acute respiratory syndrome, kidney failure and even death.'\n",
      " 'Standard recommendations to prevent infection spread include regular hand washing, covering mouth and nose when coughing and sneezing, thoroughly cooking meat and eggs.'\n",
      " 'Avoid close contact with anyone showing symptoms of respiratory illness such as coughing and sneezing.'\n",
      " 'Related links\\n\\nWHO’s Eastern Mediterranean Region scales up preparedness for novel coronavirus\\n\\nMiddle East Respiratory Syndrome (MERS-CoV)\\n\\nCoronavirus\\n\\nNovel Coronavirus']\n"
     ]
    }
   ],
   "source": [
    "from newspaper import Article\n",
    "import os \n",
    "import random\n",
    "import string\n",
    "import nltk\n",
    "from sklearn.feature_extraction.text import CountVectorizer\n",
    "from sklearn.metrics.pairwise import cosine_similarity\n",
    "import numpy as np\n",
    "import warnings\n",
    "import numpy\n",
    "import pandas as pd \n",
    "\n",
    "nltk.download('punkt', quiet=True)\n",
    "#website to extract the data\n",
    "article1 = Article('https://www.google.com/search?rlz=1C1SQJL_enIN873IN873&sxsrf=ALeKk01PpIcrhmGbQDIy0rUsNGr8BaT4Aw%3A1595658062888&ei=Ts8bX6DZNdfb9QPwz5-4AQ&q=covid+19+diseseasesymptoms&oq=covid+19+diseseasesymptoms&gs_lcp=CgZwc3ktYWIQAzIHCCMQsAIQJzIECAAQDTIECAAQDTIECAAQDTIECAAQDTIECAAQDTIECAAQDTIECAAQDTIECAAQDTIECAAQDVC7AVicEWDeEmgBcAB4AYABqwaIAaUKkgELMC4xLjAuMS42LTGYAQCgAQGqAQdnd3Mtd2l6wAEB&sclient=psy-ab&ved=0ahUKEwiguJXA4efqAhXXbX0KHfDnBxcQ4dUDCAw&uact=5')\n",
    "article1.download()\n",
    "article1.parse()\n",
    "article1.nlp()\n",
    "\n",
    "article2 = Article('https://www.who.int/health-topics/coronavirus#tab=tab_1')\n",
    "article2.download()\n",
    "article2.parse()\n",
    "article2.nlp()\n",
    "\n",
    "article3 = Article('https://www.euro.who.int/en/health-topics/noncommunicable-diseases/mental-health/data-and-resources/mental-health-and-covid-19')\n",
    "article3.download()\n",
    "article3.parse()\n",
    "article3.nlp()\n",
    "\n",
    "article4 = Article('http://www.emro.who.int/health-topics/corona-virus/about-covid-19.html')\n",
    "article4.download()\n",
    "article4.parse()\n",
    "article4.nlp()\n",
    "\n",
    "corpus =article1.text+ article2.text + article3.text + article4.text \n",
    "text = corpus\n",
    "sentence_list = nltk.sent_tokenize(text)\n",
    "arr = numpy.array(sentence_list)\n",
    "print(arr) \n",
    "pd.DataFrame(arr).to_csv(\"text.csv\")\n",
    "len(sentence_list)\n",
    "\n",
    "def greeting_response(text):\n",
    "  text = text.lower()\n",
    "  #Bots response\n",
    "  bot_greetings = ['hi','hey','hello','hey there']\n",
    "  #Users Greeting\n",
    "  user_greeting = ['hi','hello','greetings','wassup','hey','hey there']\n",
    "  for word in text.split():\n",
    "    if word in user_greeting:\n",
    "      return random.choice(bot_greetings)\n",
    "\n",
    "def index_sort(list_var):\n",
    "  length = len(list_var)\n",
    "  list_index = list(range(0, length))\n",
    "\n",
    "  x = list_var\n",
    "  for i in range(length):\n",
    "    for j in range(length):\n",
    "      if x[list_index[i]]>x[list_index[j]]:\n",
    "        temp = list_index[i]\n",
    "        list_index[i] = list_index[j]\n",
    "        list_index[j] = temp\n",
    "  return list_index\n",
    "\n",
    "def bot_response(user_input):\n",
    "  user_input = user_input.lower()\n",
    "  sentence_list.append(user_input)\n",
    "  bot_response=''\n",
    "  cm = CountVectorizer().fit_transform(sentence_list)\n",
    "  similarity_scores = cosine_similarity(cm[-1],cm)\n",
    "  similarity_scores_list = similarity_scores.flatten()\n",
    "  index = index_sort(similarity_scores_list)\n",
    "  index =index[1:]\n",
    "  response_flag = 0\n",
    "  j=0\n",
    "  for i in range(len(index)):\n",
    "    if similarity_scores_list[index[i]] > 0.0:\n",
    "      bot_response = bot_response +' '+ sentence_list[index[i]]\n",
    "      response_flag = 1\n",
    "      j = j+1\n",
    "    if j > 2:\n",
    "      break\n",
    "  if response_flag==0:\n",
    "    bot_response = bot_response+' '+\"I apologise, I don't Understand.\"\n",
    "  sentence_list.remove(user_input)\n",
    "  return bot_response"
   ]
  },
  {
   "cell_type": "code",
   "execution_count": 4,
   "metadata": {
    "colab": {
     "base_uri": "https://localhost:8080/"
    },
    "id": "eT9N2-nFGG8I",
    "outputId": "ca28e86b-9178-4e75-e7e1-9b4697718826"
   },
   "outputs": [
    {
     "name": "stdout",
     "output_type": "stream",
     "text": [
      "YOU:Hi\n",
      "Doctor:hey there\n",
      "YOU:How to stay optimistic during pandemic?\n",
      "Doctor: The best way to prevent and slow down transmission is to be well informed about the COVID-19 virus, the disease it causes and how it spreads. Detailed investigations found that SARS-CoV was transmitted from civet cats to humans and MERS-CoV from dromedary camels to humans. Stay informed:As the coronavirus pandemic rapidly sweeps across the world, it is inducing a considerable degree of fear, worry and concern in the population at large and among certain groups in particular, such as older adults, care providers and people with underlying health conditions.\n",
      "YOU:How to cope  with stress?\n",
      "Doctor: The best way to prevent and slow down transmission is to be well informed about the COVID-19 virus, the disease it causes and how it spreads. In public mental health terms, the main psychological impact to date is elevated rates of stress or anxiety. Most people infected with the COVID-19 virus will experience mild to moderate respiratory illness and recover without requiring special treatment.\n",
      "YOU:What are the best lifestyle habits?\n",
      "Doctor: The best way to prevent and slow down transmission is to be well informed about the COVID-19 virus, the disease it causes and how it spreads. Coronaviruses are zoonotic, meaning they are transmitted between animals and people. What is corona virus.\n",
      "YOU:Bye\n",
      "BOT: Bye, Chat with you later\n"
     ]
    }
   ],
   "source": [
    "while(True):\n",
    "    exit_list = ['exit', 'see you later', 'bye', 'break', 'quit']\n",
    "    user_input= input(\"YOU:\")\n",
    "\n",
    "    if user_input.lower() in exit_list:\n",
    "        res = ('BOT: Bye, Chat with you later')\n",
    "        print(res)\n",
    "        break\n",
    "    \n",
    "    else:\n",
    "      \n",
    "        if greeting_response(user_input) != None:\n",
    "            res = (greeting_response(user_input))\n",
    "        else:\n",
    "            res = (bot_response(user_input))\n",
    "    print('Doctor:'+res)"
   ]
  },
  {
   "cell_type": "code",
   "execution_count": null,
   "metadata": {},
   "outputs": [],
   "source": []
  }
 ],
 "metadata": {
  "colab": {
   "name": "Untitled7.ipynb",
   "provenance": []
  },
  "kernelspec": {
   "display_name": "Python 3",
   "language": "python",
   "name": "python3"
  }
 },
 "nbformat": 4,
 "nbformat_minor": 1
}
